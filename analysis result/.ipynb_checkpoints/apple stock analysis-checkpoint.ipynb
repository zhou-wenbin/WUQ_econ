{
 "cells": [
  {
   "cell_type": "code",
   "execution_count": 1,
   "metadata": {},
   "outputs": [
    {
     "name": "stderr",
     "output_type": "stream",
     "text": [
      "Warning message:\n",
      "“package ‘tidyquant’ was built under R version 3.6.2”Loading required package: lubridate\n",
      "\n",
      "Attaching package: ‘lubridate’\n",
      "\n",
      "The following object is masked from ‘package:base’:\n",
      "\n",
      "    date\n",
      "\n",
      "Loading required package: PerformanceAnalytics\n",
      "Warning message:\n",
      "“package ‘PerformanceAnalytics’ was built under R version 3.6.2”Loading required package: xts\n",
      "Loading required package: zoo\n",
      "\n",
      "Attaching package: ‘zoo’\n",
      "\n",
      "The following objects are masked from ‘package:base’:\n",
      "\n",
      "    as.Date, as.Date.numeric\n",
      "\n",
      "Registered S3 method overwritten by 'xts':\n",
      "  method     from\n",
      "  as.zoo.xts zoo \n",
      "\n",
      "Attaching package: ‘PerformanceAnalytics’\n",
      "\n",
      "The following object is masked from ‘package:graphics’:\n",
      "\n",
      "    legend\n",
      "\n",
      "Loading required package: quantmod\n",
      "Loading required package: TTR\n",
      "Registered S3 method overwritten by 'quantmod':\n",
      "  method            from\n",
      "  as.zoo.data.frame zoo \n",
      "Version 0.4-0 included new data defaults. See ?getSymbols.\n",
      "══ Need to Learn tidyquant? ════════════════════════════════════════════════════\n",
      "Business Science offers a 1-hour course - Learning Lab #9: Performance Analysis & Portfolio Optimization with tidyquant!\n",
      "</> Learn more at: https://university.business-science.io/p/learning-labs-pro </>\n",
      "‘getSymbols’ currently uses auto.assign=TRUE by default, but will\n",
      "use auto.assign=FALSE in 0.5-0. You will still be able to use\n",
      "‘loadSymbols’ to automatically load data. getOption(\"getSymbols.env\")\n",
      "and getOption(\"getSymbols.auto.assign\") will still be checked for\n",
      "alternate defaults.\n",
      "\n",
      "This message is shown once per session and may be disabled by setting \n",
      "options(\"getSymbols.warning4.0\"=FALSE). See ?getSymbols for details.\n",
      "\n"
     ]
    },
    {
     "data": {
      "text/html": [
       "'JPM'"
      ],
      "text/latex": [
       "'JPM'"
      ],
      "text/markdown": [
       "'JPM'"
      ],
      "text/plain": [
       "[1] \"JPM\""
      ]
     },
     "metadata": {},
     "output_type": "display_data"
    },
    {
     "data": {
      "text/plain": [
       "           JPM.Adjusted\n",
       "2018-02-01     109.5219\n",
       "2018-02-02     107.0947\n",
       "2018-02-05     101.9593\n",
       "2018-02-06     105.0612\n",
       "2018-02-07     105.7734\n",
       "2018-02-08     101.0971"
      ]
     },
     "metadata": {},
     "output_type": "display_data"
    },
    {
     "data": {
      "text/plain": [
       "           JPM.Adjusted\n",
       "2020-03-20     82.64124\n",
       "2020-03-23     78.21721\n",
       "2020-03-24     87.52054\n",
       "2020-03-25     90.78661\n",
       "2020-03-26     97.11089\n",
       "2020-03-27     90.19276"
      ]
     },
     "metadata": {},
     "output_type": "display_data"
    }
   ],
   "source": [
    "library(tidyquant)\n",
    "\n",
    "getSymbols(\"JPM\",\n",
    "           from = \"2018-02-01\", \n",
    "           to = \"2020-03-30\", \n",
    "           src = \"yahoo\")\n",
    "\n",
    "JPM <- JPM[,\"JPM.Adjusted\"]\n",
    "head(JPM)\n",
    "tail(JPM)"
   ]
  },
  {
   "cell_type": "code",
   "execution_count": 8,
   "metadata": {},
   "outputs": [
    {
     "ename": "ERROR",
     "evalue": "Error: object ‘rand_id’ is not exported by 'namespace:recipes'\n",
     "output_type": "error",
     "traceback": [
      "Error: object ‘rand_id’ is not exported by 'namespace:recipes'\nTraceback:\n",
      "1. tq_get(\"AAL\", from = \"2017-01-01\", to = \"2019-03-01\", get = \"stock.prices\")",
      "2. tq_get_base(x, get, complete_cases = complete_cases, map = FALSE, \n .     ...)",
      "3. tq_get_util_1(x, get, ...)",
      "4. ret %>% timetk::tk_tbl(preserve_index = TRUE, rename_index = \"date\", \n .     silent = TRUE) %>% dplyr::mutate(date = lubridate::as_date(date))",
      "5. withVisible(eval(quote(`_fseq`(`_lhs`)), env, env))",
      "6. eval(quote(`_fseq`(`_lhs`)), env, env)",
      "7. eval(quote(`_fseq`(`_lhs`)), env, env)",
      "8. `_fseq`(`_lhs`)",
      "9. freduce(value, `_function_list`)",
      "10. function_list[[i]](value)",
      "11. timetk::tk_tbl",
      "12. getExportedValue(pkg, name)",
      "13. asNamespace(ns)",
      "14. getNamespace(ns)",
      "15. tryCatch(loadNamespace(name), error = function(e) stop(e))",
      "16. tryCatchList(expr, classes, parentenv, handlers)",
      "17. tryCatchOne(expr, names, parentenv, handlers[[1L]])",
      "18. value[[3L]](cond)"
     ]
    }
   ],
   "source": [
    "aapl <- tq_get('AAL',\n",
    "               from = \"2017-01-01\",\n",
    "               to = \"2019-03-01\",\n",
    "               get = \"stock.prices\")"
   ]
  },
  {
   "cell_type": "code",
   "execution_count": 20,
   "metadata": {},
   "outputs": [
    {
     "data": {
      "text/html": [
       "'AAL'"
      ],
      "text/latex": [
       "'AAL'"
      ],
      "text/markdown": [
       "'AAL'"
      ],
      "text/plain": [
       "[1] \"AAL\""
      ]
     },
     "metadata": {},
     "output_type": "display_data"
    }
   ],
   "source": [
    "options(\"getSymbols.warning4.0\"=FALSE)\n",
    "options(\"getSymbols.yahoo.warning\"=FALSE)\n",
    "# Downloading Apple price using quantmod\n",
    "\n",
    "getSymbols(\"AAL\", from = '2020-01-01',\n",
    "           to = \"2020-04-09\",warnings = FALSE,\n",
    "           auto.assign = TRUE)"
   ]
  },
  {
   "cell_type": "code",
   "execution_count": 21,
   "metadata": {},
   "outputs": [
    {
     "data": {
      "text/plain": [
       "           AAL.Open AAL.High AAL.Low AAL.Close AAL.Volume AAL.Adjusted\n",
       "2020-01-02    28.98    29.30   28.65     29.09    6451100     28.98289\n",
       "2020-01-03    28.27    28.29   27.34     27.65   14008900     27.54819\n",
       "2020-01-06    27.19    27.49   27.08     27.32    6105800     27.21941\n",
       "2020-01-07    27.56    27.68   27.06     27.22    6105900     27.11978\n",
       "2020-01-08    27.10    28.09   27.07     27.84   10496800     27.73749\n",
       "2020-01-09    28.09    28.23   27.71     27.95    6898900     27.84709"
      ]
     },
     "metadata": {},
     "output_type": "display_data"
    }
   ],
   "source": [
    "head(AAL)"
   ]
  },
  {
   "cell_type": "code",
   "execution_count": 22,
   "metadata": {},
   "outputs": [
    {
     "data": {
      "text/html": [
       "<ol class=list-inline>\n",
       "\t<li>'xts'</li>\n",
       "\t<li>'zoo'</li>\n",
       "</ol>\n"
      ],
      "text/latex": [
       "\\begin{enumerate*}\n",
       "\\item 'xts'\n",
       "\\item 'zoo'\n",
       "\\end{enumerate*}\n"
      ],
      "text/markdown": [
       "1. 'xts'\n",
       "2. 'zoo'\n",
       "\n",
       "\n"
      ],
      "text/plain": [
       "[1] \"xts\" \"zoo\""
      ]
     },
     "metadata": {},
     "output_type": "display_data"
    }
   ],
   "source": [
    "class(AAL)"
   ]
  },
  {
   "cell_type": "code",
   "execution_count": 23,
   "metadata": {},
   "outputs": [
    {
     "data": {},
     "metadata": {},
     "output_type": "display_data"
    },
    {
     "data": {
      "image/png": "[encoded data removed]",
      "text/plain": [
       "plot without title"
      ]
     },
     "metadata": {},
     "output_type": "display_data"
    }
   ],
   "source": [
    "chart_Series(AAL)"
   ]
  },
  {
   "cell_type": "code",
   "execution_count": 26,
   "metadata": {},
   "outputs": [
    {
     "name": "stderr",
     "output_type": "stream",
     "text": [
      "Warning message in max(start, as.numeric(s), na.rm = TRUE):\n",
      "“no non-missing arguments to max; returning -Inf”Warning message in min(end, as.numeric(e), na.rm = TRUE):\n",
      "“no non-missing arguments to min; returning Inf”"
     ]
    },
    {
     "ename": "ERROR",
     "evalue": "Error in attributes(xx) <- c(attributes(xx), list(...)): length of 'dimnames' [2] not equal to array extent\n",
     "output_type": "error",
     "traceback": [
      "Error in attributes(xx) <- c(attributes(xx), list(...)): length of 'dimnames' [2] not equal to array extent\nTraceback:\n",
      "1. chart_Series(AAL[\"2017-12/2019-03\"])",
      "2. cs$set_xlim(c(1, NROW(cs$Env$xdata[subset])))",
      "3. NROW(cs$Env$xdata[subset])",
      "4. cs$Env$xdata[subset]",
      "5. `[.xts`(cs$Env$xdata, subset)",
      "6. .xts(rep(NA, length(i)), .index(x)[i], dimnames = list(NULL, \n .     colnames(x)))"
     ]
    }
   ],
   "source": [
    "chart_Series(AAL['2017-12/2019-03'])"
   ]
  },
  {
   "cell_type": "code",
   "execution_count": 27,
   "metadata": {},
   "outputs": [
    {
     "data": {
      "text/html": [
       "<ol class=list-inline>\n",
       "\t<li>'AAPL'</li>\n",
       "\t<li>'NFLX'</li>\n",
       "\t<li>'AMZN'</li>\n",
       "\t<li>'K'</li>\n",
       "\t<li>'O'</li>\n",
       "</ol>\n"
      ],
      "text/latex": [
       "\\begin{enumerate*}\n",
       "\\item 'AAPL'\n",
       "\\item 'NFLX'\n",
       "\\item 'AMZN'\n",
       "\\item 'K'\n",
       "\\item 'O'\n",
       "\\end{enumerate*}\n"
      ],
      "text/markdown": [
       "1. 'AAPL'\n",
       "2. 'NFLX'\n",
       "3. 'AMZN'\n",
       "4. 'K'\n",
       "5. 'O'\n",
       "\n",
       "\n"
      ],
      "text/plain": [
       "[1] \"AAPL\" \"NFLX\" \"AMZN\" \"K\"    \"O\"   "
      ]
     },
     "metadata": {},
     "output_type": "display_data"
    }
   ],
   "source": [
    "tickers = c(\"AAPL\", \"NFLX\", \"AMZN\", \"K\", \"O\")\n",
    "getSymbols(tickers,\n",
    "           from = \"2017-01-01\",\n",
    "           to = \"2017-01-15\")"
   ]
  },
  {
   "cell_type": "code",
   "execution_count": 55,
   "metadata": {},
   "outputs": [
    {
     "data": {
      "text/html": [
       "<ol class=list-inline>\n",
       "\t<li>'AAPL'</li>\n",
       "\t<li>'NFLX'</li>\n",
       "\t<li>'AMZN'</li>\n",
       "\t<li>'K'</li>\n",
       "\t<li>'O'</li>\n",
       "</ol>\n"
      ],
      "text/latex": [
       "\\begin{enumerate*}\n",
       "\\item 'AAPL'\n",
       "\\item 'NFLX'\n",
       "\\item 'AMZN'\n",
       "\\item 'K'\n",
       "\\item 'O'\n",
       "\\end{enumerate*}\n"
      ],
      "text/markdown": [
       "1. 'AAPL'\n",
       "2. 'NFLX'\n",
       "3. 'AMZN'\n",
       "4. 'K'\n",
       "5. 'O'\n",
       "\n",
       "\n"
      ],
      "text/plain": [
       "[1] \"AAPL\" \"NFLX\" \"AMZN\" \"K\"    \"O\"   "
      ]
     },
     "metadata": {},
     "output_type": "display_data"
    }
   ],
   "source": [
    "tickers = c(\"AAPL\", \"NFLX\", \"AMZN\", \"K\", \"O\")\n",
    "\n",
    "getSymbols(tickers,\n",
    "           from = \"2017-01-01\",\n",
    "           to = \"2017-01-15\")"
   ]
  },
  {
   "cell_type": "code",
   "execution_count": 59,
   "metadata": {},
   "outputs": [
    {
     "ename": "ERROR",
     "evalue": "Error: object ‘rand_id’ is not exported by 'namespace:recipes'\n",
     "output_type": "error",
     "traceback": [
      "Error: object ‘rand_id’ is not exported by 'namespace:recipes'\nTraceback:\n",
      "1. tq_get(\"AAPL\", from = \"2017-01-01\", to = \"2018-03-01\", get = \"stock.prices\")",
      "2. tq_get_base(x, get, complete_cases = complete_cases, map = FALSE, \n .     ...)",
      "3. tq_get_util_1(x, get, ...)",
      "4. ret %>% timetk::tk_tbl(preserve_index = TRUE, rename_index = \"date\", \n .     silent = TRUE) %>% dplyr::mutate(date = lubridate::as_date(date))",
      "5. withVisible(eval(quote(`_fseq`(`_lhs`)), env, env))",
      "6. eval(quote(`_fseq`(`_lhs`)), env, env)",
      "7. eval(quote(`_fseq`(`_lhs`)), env, env)",
      "8. `_fseq`(`_lhs`)",
      "9. freduce(value, `_function_list`)",
      "10. function_list[[i]](value)",
      "11. timetk::tk_tbl",
      "12. getExportedValue(pkg, name)",
      "13. asNamespace(ns)",
      "14. getNamespace(ns)",
      "15. tryCatch(loadNamespace(name), error = function(e) stop(e))",
      "16. tryCatchList(expr, classes, parentenv, handlers)",
      "17. tryCatchOne(expr, names, parentenv, handlers[[1L]])",
      "18. value[[3L]](cond)"
     ]
    }
   ],
   "source": [
    "aapl <- tq_get('AAPL',\n",
    "               from = \"2017-01-01\",\n",
    "               to = \"2018-03-01\",\n",
    "               get = \"stock.prices\")"
   ]
  },
  {
   "cell_type": "code",
   "execution_count": null,
   "metadata": {},
   "outputs": [],
   "source": []
  }
 ],
 "metadata": {
  "kernelspec": {
   "display_name": "R",
   "language": "R",
   "name": "ir"
  },
  "language_info": {
   "codemirror_mode": "r",
   "file_extension": ".r",
   "mimetype": "text/x-r-source",
   "name": "R",
   "pygments_lexer": "r",
   "version": "3.6.1"
  }
 },
 "nbformat": 4,
 "nbformat_minor": 4
}
