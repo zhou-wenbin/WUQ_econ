{
 "cells": [
  {
   "cell_type": "code",
   "execution_count": 2,
   "metadata": {},
   "outputs": [
    {
     "ename": "ERROR",
     "evalue": "Error in library(rugarch): there is no package called ‘rugarch’\n",
     "output_type": "error",
     "traceback": [
      "Error in library(rugarch): there is no package called ‘rugarch’\nTraceback:\n",
      "1. library(rugarch)"
     ]
    }
   ],
   "source": [
    "library(rugarch)\n",
    "garchSpec <- ugarchspec(\n",
    "           variance.model=list(model=\"sGARCH\",\n",
    "                               garchOrder=c(1,1)),\n",
    "           mean.model=list(armaOrder=c(0,0)), \n",
    "           distribution.model=\"std\")\n",
    "garchFit <- ugarchfit(spec=garchSpec, data=rTS)\n",
    "coef(garchFit)"
   ]
  },
  {
   "cell_type": "code",
   "execution_count": null,
   "metadata": {},
   "outputs": [],
   "source": []
  }
 ],
 "metadata": {
  "kernelspec": {
   "display_name": "R",
   "language": "R",
   "name": "ir"
  },
  "language_info": {
   "codemirror_mode": "r",
   "file_extension": ".r",
   "mimetype": "text/x-r-source",
   "name": "R",
   "pygments_lexer": "r",
   "version": "3.6.1"
  }
 },
 "nbformat": 4,
 "nbformat_minor": 4
}
