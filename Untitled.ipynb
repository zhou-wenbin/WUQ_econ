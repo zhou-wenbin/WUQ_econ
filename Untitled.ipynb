{
 "cells": [
  {
   "cell_type": "code",
   "execution_count": 11,
   "metadata": {},
   "outputs": [
    {
     "data": {
      "text/html": [
       "'JPM'"
      ],
      "text/latex": [
       "'JPM'"
      ],
      "text/markdown": [
       "'JPM'"
      ],
      "text/plain": [
       "[1] \"JPM\""
      ]
     },
     "metadata": {},
     "output_type": "display_data"
    },
    {
     "data": {
      "text/plain": [
       "           JPM.Open JPM.High JPM.Low JPM.Close JPM.Volume JPM.Adjusted\n",
       "2018-02-01   115.77   116.99  115.48    116.87   13800600     110.6600\n",
       "2018-02-02   116.49   116.92  114.09    114.28   16477300     108.2076\n",
       "2018-02-05   113.00   114.59  103.98    108.80   30097600     103.0188\n",
       "2018-02-06   106.85   112.48  106.61    112.11   33114800     106.1529\n",
       "2018-02-07   111.55   114.45  111.15    112.87   21878300     106.8725\n",
       "2018-02-08   113.11   113.11  107.84    107.88   27425800     102.1477"
      ]
     },
     "metadata": {},
     "output_type": "display_data"
    }
   ],
   "source": [
    "library(tidyquant)\n",
    "library(timetk)\n",
    "\n",
    "getSymbols(\"JPM\",\n",
    "           from = \"2018-02-01\", \n",
    "           to = \"2018-12-30\", \n",
    "           src = \"yahoo\")\n",
    "\n",
    "head(JPM)\n",
    "\n",
    "JPM <- JPM[,\"JPM.Adjusted\"]"
   ]
  },
  {
   "cell_type": "code",
   "execution_count": 9,
   "metadata": {},
   "outputs": [
    {
     "name": "stdout",
     "output_type": "stream",
     "text": [
      "[1] \"Average stock value:105.67118490393\"\n"
     ]
    }
   ],
   "source": [
    "mean <- mean(JPM)\n",
    "print(paste0('Average stock value:', mean))"
   ]
  },
  {
   "cell_type": "code",
   "execution_count": null,
   "metadata": {},
   "outputs": [],
   "source": []
  },
  {
   "cell_type": "code",
   "execution_count": 20,
   "metadata": {},
   "outputs": [],
   "source": [
    "gClose <- JPM$Close"
   ]
  },
  {
   "cell_type": "code",
   "execution_count": 21,
   "metadata": {},
   "outputs": [],
   "source": [
    "n <- length(gClose)"
   ]
  },
  {
   "cell_type": "code",
   "execution_count": 22,
   "metadata": {},
   "outputs": [],
   "source": [
    "returns.daily.simple <-gClose[n]/gClose[-1]-1"
   ]
  },
  {
   "cell_type": "code",
   "execution_count": 23,
   "metadata": {},
   "outputs": [],
   "source": [
    "returns.daily.log <- log(gClose[n]/gClose[-1])"
   ]
  },
  {
   "cell_type": "code",
   "execution_count": 24,
   "metadata": {},
   "outputs": [],
   "source": [
    "vol.daily <- sd(returns.daily.simple)"
   ]
  },
  {
   "cell_type": "code",
   "execution_count": 25,
   "metadata": {},
   "outputs": [],
   "source": [
    "vol.annual <-vol.daily*sqrt(250)"
   ]
  },
  {
   "cell_type": "code",
   "execution_count": 26,
   "metadata": {},
   "outputs": [
    {
     "name": "stdout",
     "output_type": "stream",
     "text": [
      "[1] NA\n"
     ]
    }
   ],
   "source": [
    "print(vol.annual)"
   ]
  },
  {
   "cell_type": "code",
   "execution_count": null,
   "metadata": {},
   "outputs": [],
   "source": []
  }
 ],
 "metadata": {
  "kernelspec": {
   "display_name": "R",
   "language": "R",
   "name": "ir"
  },
  "language_info": {
   "codemirror_mode": "r",
   "file_extension": ".r",
   "mimetype": "text/x-r-source",
   "name": "R",
   "pygments_lexer": "r",
   "version": "3.6.1"
  }
 },
 "nbformat": 4,
 "nbformat_minor": 4
}
